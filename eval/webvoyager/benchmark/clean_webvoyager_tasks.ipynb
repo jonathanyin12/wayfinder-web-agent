{
 "cells": [
  {
   "cell_type": "code",
   "execution_count": 1,
   "metadata": {},
   "outputs": [
    {
     "name": "stdout",
     "output_type": "stream",
     "text": [
      "Loaded 643 tasks from WebVoyager_data.jsonl\n"
     ]
    }
   ],
   "source": [
    "import json\n",
    "\n",
    "# Read the WebVoyager tasks data\n",
    "tasks = []\n",
    "with open(\"WebVoyager_data.jsonl\", \"r\") as f:\n",
    "    for line in f:\n",
    "        tasks.append(json.loads(line))\n",
    "\n",
    "print(f\"Loaded {len(tasks)} tasks from WebVoyager_data.jsonl\")\n",
    "task_dict = {task[\"id\"]: task for task in tasks}"
   ]
  },
  {
   "cell_type": "code",
   "execution_count": 2,
   "metadata": {},
   "outputs": [
    {
     "name": "stdout",
     "output_type": "stream",
     "text": [
      "Found and removed 40 impossible tasks\n",
      "Remaining tasks: 603\n"
     ]
    }
   ],
   "source": [
    "# Remove impossible tasks\n",
    "with open(\"modifications/WebVoyagerImpossibleTasks.json\", \"r\") as f:\n",
    "    impossible_tasks_json = json.load(f)\n",
    "\n",
    "num_impossible_tasks = 0\n",
    "for web_name in impossible_tasks_json:\n",
    "    for task_id in impossible_tasks_json[web_name]:\n",
    "        num_impossible_tasks += 1\n",
    "        del task_dict[task_id]\n",
    "\n",
    "print(f\"Found and removed {num_impossible_tasks} impossible tasks\")\n",
    "\n",
    "print(f\"Remaining tasks: {len(task_dict)}\")"
   ]
  },
  {
   "cell_type": "code",
   "execution_count": 3,
   "metadata": {},
   "outputs": [
    {
     "name": "stdout",
     "output_type": "stream",
     "text": [
      "Modified 11 tasks\n"
     ]
    }
   ],
   "source": [
    "# Replace modified tasks\n",
    "with open(\"modifications/WebVoyagerModifiedTasks.json\", \"r\") as f:\n",
    "    modified_tasks_json = json.load(f)\n",
    "\n",
    "\n",
    "num_modified_tasks = 0\n",
    "for web_name in modified_tasks_json:\n",
    "    for task_id in modified_tasks_json[web_name]:\n",
    "        num_modified_tasks += 1\n",
    "        task_dict[task_id] = modified_tasks_json[web_name][task_id]\n",
    "\n",
    "print(f\"Modified {num_modified_tasks} tasks\")"
   ]
  },
  {
   "cell_type": "code",
   "execution_count": 5,
   "metadata": {},
   "outputs": [
    {
     "name": "stdout",
     "output_type": "stream",
     "text": [
      "Saved 603 filtered tasks to WebVoyager_cleaned_tasks.jsonl\n"
     ]
    }
   ],
   "source": [
    "# Save the filtered tasks to a new file\n",
    "\n",
    "filtered_tasks = []\n",
    "for task_id, task in task_dict.items():\n",
    "    filtered_tasks.append(task)\n",
    "\n",
    "output_file = \"WebVoyager_cleaned_tasks.jsonl\"\n",
    "with open(output_file, \"w\") as f:\n",
    "    for task in filtered_tasks:\n",
    "        f.write(json.dumps(task) + \"\\n\")\n",
    "\n",
    "print(f\"Saved {len(filtered_tasks)} filtered tasks to {output_file}\")\n"
   ]
  }
 ],
 "metadata": {
  "kernelspec": {
   "display_name": "env",
   "language": "python",
   "name": "python3"
  },
  "language_info": {
   "codemirror_mode": {
    "name": "ipython",
    "version": 3
   },
   "file_extension": ".py",
   "mimetype": "text/x-python",
   "name": "python",
   "nbconvert_exporter": "python",
   "pygments_lexer": "ipython3",
   "version": "3.12.7"
  }
 },
 "nbformat": 4,
 "nbformat_minor": 2
}
