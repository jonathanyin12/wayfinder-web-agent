{
 "cells": [
  {
   "cell_type": "code",
   "execution_count": 1,
   "metadata": {},
   "outputs": [
    {
     "name": "stdout",
     "output_type": "stream",
     "text": [
      "Loaded 643 tasks from WebVoyager_data.jsonl\n"
     ]
    }
   ],
   "source": [
    "import json\n",
    "\n",
    "# Read the WebVoyager tasks data\n",
    "tasks = []\n",
    "with open(\"WebVoyager_data.jsonl\", \"r\") as f:\n",
    "    for line in f:\n",
    "        tasks.append(json.loads(line))\n",
    "\n",
    "print(f\"Loaded {len(tasks)} tasks from WebVoyager_data.jsonl\")"
   ]
  },
  {
   "cell_type": "code",
   "execution_count": 2,
   "metadata": {},
   "outputs": [
    {
     "name": "stdout",
     "output_type": "stream",
     "text": [
      "Found 40 impossible tasks\n",
      "Removed 40 impossible tasks\n",
      "Remaining tasks: 603\n"
     ]
    }
   ],
   "source": [
    "# Remove impossible tasks\n",
    "with open(\"modifications/WebVoyagerImpossibleTasks.json\", \"r\") as f:\n",
    "    impossible_tasks_json = json.load(f)\n",
    "\n",
    "impossible_tasks = set()\n",
    "for web_name in impossible_tasks_json:\n",
    "    for task_id in impossible_tasks_json[web_name]:\n",
    "        impossible_tasks.add(task_id)\n",
    "\n",
    "print(f\"Found {len(impossible_tasks)} impossible tasks\")\n",
    "\n",
    "# Filter out the impossible tasks\n",
    "filtered_tasks = [task for task in tasks if task[\"id\"] not in impossible_tasks]\n",
    "\n",
    "print(f\"Removed {len(tasks) - len(filtered_tasks)} impossible tasks\")\n",
    "print(f\"Remaining tasks: {len(filtered_tasks)}\")"
   ]
  },
  {
   "cell_type": "code",
   "execution_count": null,
   "metadata": {},
   "outputs": [],
   "source": []
  },
  {
   "cell_type": "code",
   "execution_count": 3,
   "metadata": {},
   "outputs": [
    {
     "name": "stdout",
     "output_type": "stream",
     "text": [
      "Saved filtered tasks to WebVoyager_cleaned_tasks.jsonl\n"
     ]
    }
   ],
   "source": [
    "# Save the filtered tasks to a new file\n",
    "output_file = \"WebVoyager_cleaned_tasks.jsonl\"\n",
    "with open(output_file, \"w\") as f:\n",
    "    for task in filtered_tasks:\n",
    "        f.write(json.dumps(task) + \"\\n\")\n",
    "\n",
    "print(f\"Saved filtered tasks to {output_file}\")\n"
   ]
  }
 ],
 "metadata": {
  "kernelspec": {
   "display_name": "env",
   "language": "python",
   "name": "python3"
  },
  "language_info": {
   "codemirror_mode": {
    "name": "ipython",
    "version": 3
   },
   "file_extension": ".py",
   "mimetype": "text/x-python",
   "name": "python",
   "nbconvert_exporter": "python",
   "pygments_lexer": "ipython3",
   "version": "3.12.7"
  }
 },
 "nbformat": 4,
 "nbformat_minor": 2
}
